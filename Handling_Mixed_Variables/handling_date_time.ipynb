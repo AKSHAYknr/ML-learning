{
 "cells": [
  {
   "cell_type": "code",
   "id": "initial_id",
   "metadata": {
    "collapsed": true,
    "ExecuteTime": {
     "end_time": "2025-10-31T17:08:23.373521Z",
     "start_time": "2025-10-31T17:08:23.367292Z"
    }
   },
   "source": [
    "import numpy as np\n",
    "import pandas as pd"
   ],
   "outputs": [],
   "execution_count": 54
  },
  {
   "metadata": {
    "ExecuteTime": {
     "end_time": "2025-10-31T17:08:26.071504Z",
     "start_time": "2025-10-31T17:08:23.384609Z"
    }
   },
   "cell_type": "code",
   "source": [
    "date = pd.read_csv('../data/List_of_Orders.csv')\n",
    "time = pd.read_csv('../data/messages.csv')"
   ],
   "id": "e34a60892088d6d9",
   "outputs": [],
   "execution_count": 55
  },
  {
   "metadata": {
    "ExecuteTime": {
     "end_time": "2025-10-31T17:08:26.087673Z",
     "start_time": "2025-10-31T17:08:26.079329Z"
    }
   },
   "cell_type": "code",
   "source": "date.head()",
   "id": "dac344ede51726a3",
   "outputs": [
    {
     "data": {
      "text/plain": [
       "  Order ID  Order Date CustomerName           State       City\n",
       "0  B-25601  01-04-2018       Bharat         Gujarat  Ahmedabad\n",
       "1  B-25602  01-04-2018        Pearl     Maharashtra       Pune\n",
       "2  B-25603  03-04-2018        Jahan  Madhya Pradesh     Bhopal\n",
       "3  B-25604  03-04-2018       Divsha       Rajasthan     Jaipur\n",
       "4  B-25605  05-04-2018      Kasheen     West Bengal    Kolkata"
      ],
      "text/html": [
       "<div>\n",
       "<style scoped>\n",
       "    .dataframe tbody tr th:only-of-type {\n",
       "        vertical-align: middle;\n",
       "    }\n",
       "\n",
       "    .dataframe tbody tr th {\n",
       "        vertical-align: top;\n",
       "    }\n",
       "\n",
       "    .dataframe thead th {\n",
       "        text-align: right;\n",
       "    }\n",
       "</style>\n",
       "<table border=\"1\" class=\"dataframe\">\n",
       "  <thead>\n",
       "    <tr style=\"text-align: right;\">\n",
       "      <th></th>\n",
       "      <th>Order ID</th>\n",
       "      <th>Order Date</th>\n",
       "      <th>CustomerName</th>\n",
       "      <th>State</th>\n",
       "      <th>City</th>\n",
       "    </tr>\n",
       "  </thead>\n",
       "  <tbody>\n",
       "    <tr>\n",
       "      <th>0</th>\n",
       "      <td>B-25601</td>\n",
       "      <td>01-04-2018</td>\n",
       "      <td>Bharat</td>\n",
       "      <td>Gujarat</td>\n",
       "      <td>Ahmedabad</td>\n",
       "    </tr>\n",
       "    <tr>\n",
       "      <th>1</th>\n",
       "      <td>B-25602</td>\n",
       "      <td>01-04-2018</td>\n",
       "      <td>Pearl</td>\n",
       "      <td>Maharashtra</td>\n",
       "      <td>Pune</td>\n",
       "    </tr>\n",
       "    <tr>\n",
       "      <th>2</th>\n",
       "      <td>B-25603</td>\n",
       "      <td>03-04-2018</td>\n",
       "      <td>Jahan</td>\n",
       "      <td>Madhya Pradesh</td>\n",
       "      <td>Bhopal</td>\n",
       "    </tr>\n",
       "    <tr>\n",
       "      <th>3</th>\n",
       "      <td>B-25604</td>\n",
       "      <td>03-04-2018</td>\n",
       "      <td>Divsha</td>\n",
       "      <td>Rajasthan</td>\n",
       "      <td>Jaipur</td>\n",
       "    </tr>\n",
       "    <tr>\n",
       "      <th>4</th>\n",
       "      <td>B-25605</td>\n",
       "      <td>05-04-2018</td>\n",
       "      <td>Kasheen</td>\n",
       "      <td>West Bengal</td>\n",
       "      <td>Kolkata</td>\n",
       "    </tr>\n",
       "  </tbody>\n",
       "</table>\n",
       "</div>"
      ]
     },
     "execution_count": 56,
     "metadata": {},
     "output_type": "execute_result"
    }
   ],
   "execution_count": 56
  },
  {
   "metadata": {
    "ExecuteTime": {
     "end_time": "2025-10-31T17:08:26.112255Z",
     "start_time": "2025-10-31T17:08:26.097285Z"
    }
   },
   "cell_type": "code",
   "source": "time.head()",
   "id": "d2429f1b9ae3420f",
   "outputs": [
    {
     "data": {
      "text/plain": [
       "                  date                                                msg\n",
       "0  2012-01-02 00:21:00                            нужен парень 0965188229\n",
       "1  2012-01-02 00:24:00                       Всем привет! Как настроение?\n",
       "2  2012-01-02 00:27:00  ИЩЮ ВТОРУЮ ПОЛОВИНКУ МНЕ 23 ЗОВУТ ВАНЯ ПИШИТЕ ...\n",
       "3  2012-01-02 00:27:00     Эля  встречала в шумной компании! Все отлично!\n",
       "4  2012-01-02 00:27:00  Парень катается по городу. Нужна девушка. 0992..."
      ],
      "text/html": [
       "<div>\n",
       "<style scoped>\n",
       "    .dataframe tbody tr th:only-of-type {\n",
       "        vertical-align: middle;\n",
       "    }\n",
       "\n",
       "    .dataframe tbody tr th {\n",
       "        vertical-align: top;\n",
       "    }\n",
       "\n",
       "    .dataframe thead th {\n",
       "        text-align: right;\n",
       "    }\n",
       "</style>\n",
       "<table border=\"1\" class=\"dataframe\">\n",
       "  <thead>\n",
       "    <tr style=\"text-align: right;\">\n",
       "      <th></th>\n",
       "      <th>date</th>\n",
       "      <th>msg</th>\n",
       "    </tr>\n",
       "  </thead>\n",
       "  <tbody>\n",
       "    <tr>\n",
       "      <th>0</th>\n",
       "      <td>2012-01-02 00:21:00</td>\n",
       "      <td>нужен парень 0965188229</td>\n",
       "    </tr>\n",
       "    <tr>\n",
       "      <th>1</th>\n",
       "      <td>2012-01-02 00:24:00</td>\n",
       "      <td>Всем привет! Как настроение?</td>\n",
       "    </tr>\n",
       "    <tr>\n",
       "      <th>2</th>\n",
       "      <td>2012-01-02 00:27:00</td>\n",
       "      <td>ИЩЮ ВТОРУЮ ПОЛОВИНКУ МНЕ 23 ЗОВУТ ВАНЯ ПИШИТЕ ...</td>\n",
       "    </tr>\n",
       "    <tr>\n",
       "      <th>3</th>\n",
       "      <td>2012-01-02 00:27:00</td>\n",
       "      <td>Эля  встречала в шумной компании! Все отлично!</td>\n",
       "    </tr>\n",
       "    <tr>\n",
       "      <th>4</th>\n",
       "      <td>2012-01-02 00:27:00</td>\n",
       "      <td>Парень катается по городу. Нужна девушка. 0992...</td>\n",
       "    </tr>\n",
       "  </tbody>\n",
       "</table>\n",
       "</div>"
      ]
     },
     "execution_count": 57,
     "metadata": {},
     "output_type": "execute_result"
    }
   ],
   "execution_count": 57
  },
  {
   "metadata": {
    "ExecuteTime": {
     "end_time": "2025-10-31T17:08:26.132348Z",
     "start_time": "2025-10-31T17:08:26.121201Z"
    }
   },
   "cell_type": "code",
   "source": "date.info()",
   "id": "5f7a1fbc926dc8e3",
   "outputs": [
    {
     "name": "stdout",
     "output_type": "stream",
     "text": [
      "<class 'pandas.core.frame.DataFrame'>\n",
      "RangeIndex: 560 entries, 0 to 559\n",
      "Data columns (total 5 columns):\n",
      " #   Column        Non-Null Count  Dtype \n",
      "---  ------        --------------  ----- \n",
      " 0   Order ID      500 non-null    object\n",
      " 1   Order Date    500 non-null    object\n",
      " 2   CustomerName  500 non-null    object\n",
      " 3   State         500 non-null    object\n",
      " 4   City          500 non-null    object\n",
      "dtypes: object(5)\n",
      "memory usage: 22.0+ KB\n"
     ]
    }
   ],
   "execution_count": 58
  },
  {
   "metadata": {
    "ExecuteTime": {
     "end_time": "2025-10-31T17:08:26.227093Z",
     "start_time": "2025-10-31T17:08:26.143159Z"
    }
   },
   "cell_type": "code",
   "source": "time.info()",
   "id": "5a423f25c4461683",
   "outputs": [
    {
     "name": "stdout",
     "output_type": "stream",
     "text": [
      "<class 'pandas.core.frame.DataFrame'>\n",
      "RangeIndex: 1147100 entries, 0 to 1147099\n",
      "Data columns (total 2 columns):\n",
      " #   Column  Non-Null Count    Dtype \n",
      "---  ------  --------------    ----- \n",
      " 0   date    1147100 non-null  object\n",
      " 1   msg     1147100 non-null  object\n",
      "dtypes: object(2)\n",
      "memory usage: 17.5+ MB\n"
     ]
    }
   ],
   "execution_count": 59
  },
  {
   "metadata": {
    "ExecuteTime": {
     "end_time": "2025-10-31T17:08:26.245157Z",
     "start_time": "2025-10-31T17:08:26.233232Z"
    }
   },
   "cell_type": "code",
   "source": "date['Order Date'] = pd.to_datetime(date['Order Date'], dayfirst=True)",
   "id": "61ea4f86992b43b7",
   "outputs": [],
   "execution_count": 60
  },
  {
   "metadata": {
    "ExecuteTime": {
     "end_time": "2025-10-31T17:08:26.267539Z",
     "start_time": "2025-10-31T17:08:26.252991Z"
    }
   },
   "cell_type": "code",
   "source": "date.info()",
   "id": "722ab62e60a78e93",
   "outputs": [
    {
     "name": "stdout",
     "output_type": "stream",
     "text": [
      "<class 'pandas.core.frame.DataFrame'>\n",
      "RangeIndex: 560 entries, 0 to 559\n",
      "Data columns (total 5 columns):\n",
      " #   Column        Non-Null Count  Dtype         \n",
      "---  ------        --------------  -----         \n",
      " 0   Order ID      500 non-null    object        \n",
      " 1   Order Date    500 non-null    datetime64[ns]\n",
      " 2   CustomerName  500 non-null    object        \n",
      " 3   State         500 non-null    object        \n",
      " 4   City          500 non-null    object        \n",
      "dtypes: datetime64[ns](1), object(4)\n",
      "memory usage: 22.0+ KB\n"
     ]
    }
   ],
   "execution_count": 61
  },
  {
   "metadata": {
    "ExecuteTime": {
     "end_time": "2025-10-31T17:08:26.289355Z",
     "start_time": "2025-10-31T17:08:26.274700Z"
    }
   },
   "cell_type": "code",
   "source": [
    "date['Date Year'] = date['Order Date'].dt.year\n",
    "date.head()"
   ],
   "id": "5125cb4e0022fac",
   "outputs": [
    {
     "data": {
      "text/plain": [
       "  Order ID Order Date CustomerName           State       City  Date Year\n",
       "0  B-25601 2018-04-01       Bharat         Gujarat  Ahmedabad     2018.0\n",
       "1  B-25602 2018-04-01        Pearl     Maharashtra       Pune     2018.0\n",
       "2  B-25603 2018-04-03        Jahan  Madhya Pradesh     Bhopal     2018.0\n",
       "3  B-25604 2018-04-03       Divsha       Rajasthan     Jaipur     2018.0\n",
       "4  B-25605 2018-04-05      Kasheen     West Bengal    Kolkata     2018.0"
      ],
      "text/html": [
       "<div>\n",
       "<style scoped>\n",
       "    .dataframe tbody tr th:only-of-type {\n",
       "        vertical-align: middle;\n",
       "    }\n",
       "\n",
       "    .dataframe tbody tr th {\n",
       "        vertical-align: top;\n",
       "    }\n",
       "\n",
       "    .dataframe thead th {\n",
       "        text-align: right;\n",
       "    }\n",
       "</style>\n",
       "<table border=\"1\" class=\"dataframe\">\n",
       "  <thead>\n",
       "    <tr style=\"text-align: right;\">\n",
       "      <th></th>\n",
       "      <th>Order ID</th>\n",
       "      <th>Order Date</th>\n",
       "      <th>CustomerName</th>\n",
       "      <th>State</th>\n",
       "      <th>City</th>\n",
       "      <th>Date Year</th>\n",
       "    </tr>\n",
       "  </thead>\n",
       "  <tbody>\n",
       "    <tr>\n",
       "      <th>0</th>\n",
       "      <td>B-25601</td>\n",
       "      <td>2018-04-01</td>\n",
       "      <td>Bharat</td>\n",
       "      <td>Gujarat</td>\n",
       "      <td>Ahmedabad</td>\n",
       "      <td>2018.0</td>\n",
       "    </tr>\n",
       "    <tr>\n",
       "      <th>1</th>\n",
       "      <td>B-25602</td>\n",
       "      <td>2018-04-01</td>\n",
       "      <td>Pearl</td>\n",
       "      <td>Maharashtra</td>\n",
       "      <td>Pune</td>\n",
       "      <td>2018.0</td>\n",
       "    </tr>\n",
       "    <tr>\n",
       "      <th>2</th>\n",
       "      <td>B-25603</td>\n",
       "      <td>2018-04-03</td>\n",
       "      <td>Jahan</td>\n",
       "      <td>Madhya Pradesh</td>\n",
       "      <td>Bhopal</td>\n",
       "      <td>2018.0</td>\n",
       "    </tr>\n",
       "    <tr>\n",
       "      <th>3</th>\n",
       "      <td>B-25604</td>\n",
       "      <td>2018-04-03</td>\n",
       "      <td>Divsha</td>\n",
       "      <td>Rajasthan</td>\n",
       "      <td>Jaipur</td>\n",
       "      <td>2018.0</td>\n",
       "    </tr>\n",
       "    <tr>\n",
       "      <th>4</th>\n",
       "      <td>B-25605</td>\n",
       "      <td>2018-04-05</td>\n",
       "      <td>Kasheen</td>\n",
       "      <td>West Bengal</td>\n",
       "      <td>Kolkata</td>\n",
       "      <td>2018.0</td>\n",
       "    </tr>\n",
       "  </tbody>\n",
       "</table>\n",
       "</div>"
      ]
     },
     "execution_count": 62,
     "metadata": {},
     "output_type": "execute_result"
    }
   ],
   "execution_count": 62
  },
  {
   "metadata": {
    "ExecuteTime": {
     "end_time": "2025-10-31T17:08:26.314924Z",
     "start_time": "2025-10-31T17:08:26.297705Z"
    }
   },
   "cell_type": "code",
   "source": [
    "date['Date Month'] = date['Order Date'].dt.month\n",
    "date.sample(5)"
   ],
   "id": "a4418f3a34aca52b",
   "outputs": [
    {
     "data": {
      "text/plain": [
       "    Order ID Order Date CustomerName      State     City  Date Year  \\\n",
       "487  B-26088 2019-03-26       Bhavna     Sikkim  Gangtok     2019.0   \n",
       "153  B-25754 2018-08-18       Akshay      Bihar    Patna     2018.0   \n",
       "21   B-25622 2018-04-22      Monisha  Rajasthan   Jaipur     2018.0   \n",
       "482  B-26083 2019-03-24       Yogesh      Bihar    Patna     2019.0   \n",
       "506      NaN        NaT          NaN        NaN      NaN        NaN   \n",
       "\n",
       "     Date Month  \n",
       "487         3.0  \n",
       "153         8.0  \n",
       "21          4.0  \n",
       "482         3.0  \n",
       "506         NaN  "
      ],
      "text/html": [
       "<div>\n",
       "<style scoped>\n",
       "    .dataframe tbody tr th:only-of-type {\n",
       "        vertical-align: middle;\n",
       "    }\n",
       "\n",
       "    .dataframe tbody tr th {\n",
       "        vertical-align: top;\n",
       "    }\n",
       "\n",
       "    .dataframe thead th {\n",
       "        text-align: right;\n",
       "    }\n",
       "</style>\n",
       "<table border=\"1\" class=\"dataframe\">\n",
       "  <thead>\n",
       "    <tr style=\"text-align: right;\">\n",
       "      <th></th>\n",
       "      <th>Order ID</th>\n",
       "      <th>Order Date</th>\n",
       "      <th>CustomerName</th>\n",
       "      <th>State</th>\n",
       "      <th>City</th>\n",
       "      <th>Date Year</th>\n",
       "      <th>Date Month</th>\n",
       "    </tr>\n",
       "  </thead>\n",
       "  <tbody>\n",
       "    <tr>\n",
       "      <th>487</th>\n",
       "      <td>B-26088</td>\n",
       "      <td>2019-03-26</td>\n",
       "      <td>Bhavna</td>\n",
       "      <td>Sikkim</td>\n",
       "      <td>Gangtok</td>\n",
       "      <td>2019.0</td>\n",
       "      <td>3.0</td>\n",
       "    </tr>\n",
       "    <tr>\n",
       "      <th>153</th>\n",
       "      <td>B-25754</td>\n",
       "      <td>2018-08-18</td>\n",
       "      <td>Akshay</td>\n",
       "      <td>Bihar</td>\n",
       "      <td>Patna</td>\n",
       "      <td>2018.0</td>\n",
       "      <td>8.0</td>\n",
       "    </tr>\n",
       "    <tr>\n",
       "      <th>21</th>\n",
       "      <td>B-25622</td>\n",
       "      <td>2018-04-22</td>\n",
       "      <td>Monisha</td>\n",
       "      <td>Rajasthan</td>\n",
       "      <td>Jaipur</td>\n",
       "      <td>2018.0</td>\n",
       "      <td>4.0</td>\n",
       "    </tr>\n",
       "    <tr>\n",
       "      <th>482</th>\n",
       "      <td>B-26083</td>\n",
       "      <td>2019-03-24</td>\n",
       "      <td>Yogesh</td>\n",
       "      <td>Bihar</td>\n",
       "      <td>Patna</td>\n",
       "      <td>2019.0</td>\n",
       "      <td>3.0</td>\n",
       "    </tr>\n",
       "    <tr>\n",
       "      <th>506</th>\n",
       "      <td>NaN</td>\n",
       "      <td>NaT</td>\n",
       "      <td>NaN</td>\n",
       "      <td>NaN</td>\n",
       "      <td>NaN</td>\n",
       "      <td>NaN</td>\n",
       "      <td>NaN</td>\n",
       "    </tr>\n",
       "  </tbody>\n",
       "</table>\n",
       "</div>"
      ]
     },
     "execution_count": 63,
     "metadata": {},
     "output_type": "execute_result"
    }
   ],
   "execution_count": 63
  },
  {
   "metadata": {
    "ExecuteTime": {
     "end_time": "2025-10-31T17:08:26.344115Z",
     "start_time": "2025-10-31T17:08:26.331853Z"
    }
   },
   "cell_type": "code",
   "source": [
    "date['Date Month Name'] = date['Order Date'].dt.month_name()\n",
    "date.sample(5)"
   ],
   "id": "280992f051e7b3b7",
   "outputs": [
    {
     "data": {
      "text/plain": [
       "    Order ID Order Date CustomerName           State       City  Date Year  \\\n",
       "129  B-25730 2018-07-22      Rishabh       Rajasthan     Jaipur     2018.0   \n",
       "14   B-25615 2018-04-15       Bhavna          Sikkim    Gangtok     2018.0   \n",
       "131  B-25732 2018-07-27      Anubhaw       Karnataka  Bangalore     2018.0   \n",
       "284  B-25885 2018-11-28      Shatayu  Madhya Pradesh     Indore     2018.0   \n",
       "110  B-25711 2018-07-06       Sakshi  Madhya Pradesh     Bhopal     2018.0   \n",
       "\n",
       "     Date Month Date Month Name  \n",
       "129         7.0            July  \n",
       "14          4.0           April  \n",
       "131         7.0            July  \n",
       "284        11.0        November  \n",
       "110         7.0            July  "
      ],
      "text/html": [
       "<div>\n",
       "<style scoped>\n",
       "    .dataframe tbody tr th:only-of-type {\n",
       "        vertical-align: middle;\n",
       "    }\n",
       "\n",
       "    .dataframe tbody tr th {\n",
       "        vertical-align: top;\n",
       "    }\n",
       "\n",
       "    .dataframe thead th {\n",
       "        text-align: right;\n",
       "    }\n",
       "</style>\n",
       "<table border=\"1\" class=\"dataframe\">\n",
       "  <thead>\n",
       "    <tr style=\"text-align: right;\">\n",
       "      <th></th>\n",
       "      <th>Order ID</th>\n",
       "      <th>Order Date</th>\n",
       "      <th>CustomerName</th>\n",
       "      <th>State</th>\n",
       "      <th>City</th>\n",
       "      <th>Date Year</th>\n",
       "      <th>Date Month</th>\n",
       "      <th>Date Month Name</th>\n",
       "    </tr>\n",
       "  </thead>\n",
       "  <tbody>\n",
       "    <tr>\n",
       "      <th>129</th>\n",
       "      <td>B-25730</td>\n",
       "      <td>2018-07-22</td>\n",
       "      <td>Rishabh</td>\n",
       "      <td>Rajasthan</td>\n",
       "      <td>Jaipur</td>\n",
       "      <td>2018.0</td>\n",
       "      <td>7.0</td>\n",
       "      <td>July</td>\n",
       "    </tr>\n",
       "    <tr>\n",
       "      <th>14</th>\n",
       "      <td>B-25615</td>\n",
       "      <td>2018-04-15</td>\n",
       "      <td>Bhavna</td>\n",
       "      <td>Sikkim</td>\n",
       "      <td>Gangtok</td>\n",
       "      <td>2018.0</td>\n",
       "      <td>4.0</td>\n",
       "      <td>April</td>\n",
       "    </tr>\n",
       "    <tr>\n",
       "      <th>131</th>\n",
       "      <td>B-25732</td>\n",
       "      <td>2018-07-27</td>\n",
       "      <td>Anubhaw</td>\n",
       "      <td>Karnataka</td>\n",
       "      <td>Bangalore</td>\n",
       "      <td>2018.0</td>\n",
       "      <td>7.0</td>\n",
       "      <td>July</td>\n",
       "    </tr>\n",
       "    <tr>\n",
       "      <th>284</th>\n",
       "      <td>B-25885</td>\n",
       "      <td>2018-11-28</td>\n",
       "      <td>Shatayu</td>\n",
       "      <td>Madhya Pradesh</td>\n",
       "      <td>Indore</td>\n",
       "      <td>2018.0</td>\n",
       "      <td>11.0</td>\n",
       "      <td>November</td>\n",
       "    </tr>\n",
       "    <tr>\n",
       "      <th>110</th>\n",
       "      <td>B-25711</td>\n",
       "      <td>2018-07-06</td>\n",
       "      <td>Sakshi</td>\n",
       "      <td>Madhya Pradesh</td>\n",
       "      <td>Bhopal</td>\n",
       "      <td>2018.0</td>\n",
       "      <td>7.0</td>\n",
       "      <td>July</td>\n",
       "    </tr>\n",
       "  </tbody>\n",
       "</table>\n",
       "</div>"
      ]
     },
     "execution_count": 64,
     "metadata": {},
     "output_type": "execute_result"
    }
   ],
   "execution_count": 64
  },
  {
   "metadata": {
    "ExecuteTime": {
     "end_time": "2025-10-31T17:08:26.438645Z",
     "start_time": "2025-10-31T17:08:26.361288Z"
    }
   },
   "cell_type": "code",
   "source": "time.info()",
   "id": "b49eed62ad2c333d",
   "outputs": [
    {
     "name": "stdout",
     "output_type": "stream",
     "text": [
      "<class 'pandas.core.frame.DataFrame'>\n",
      "RangeIndex: 1147100 entries, 0 to 1147099\n",
      "Data columns (total 2 columns):\n",
      " #   Column  Non-Null Count    Dtype \n",
      "---  ------  --------------    ----- \n",
      " 0   date    1147100 non-null  object\n",
      " 1   msg     1147100 non-null  object\n",
      "dtypes: object(2)\n",
      "memory usage: 17.5+ MB\n"
     ]
    }
   ],
   "execution_count": 65
  },
  {
   "metadata": {
    "ExecuteTime": {
     "end_time": "2025-10-31T17:08:26.766212Z",
     "start_time": "2025-10-31T17:08:26.446427Z"
    }
   },
   "cell_type": "code",
   "source": [
    "time['date'] = pd.to_datetime(time['date'])\n",
    "time.info()"
   ],
   "id": "ae3f823965c1ad2e",
   "outputs": [
    {
     "name": "stdout",
     "output_type": "stream",
     "text": [
      "<class 'pandas.core.frame.DataFrame'>\n",
      "RangeIndex: 1147100 entries, 0 to 1147099\n",
      "Data columns (total 2 columns):\n",
      " #   Column  Non-Null Count    Dtype         \n",
      "---  ------  --------------    -----         \n",
      " 0   date    1147100 non-null  datetime64[ns]\n",
      " 1   msg     1147100 non-null  object        \n",
      "dtypes: datetime64[ns](1), object(1)\n",
      "memory usage: 17.5+ MB\n"
     ]
    }
   ],
   "execution_count": 66
  },
  {
   "metadata": {
    "ExecuteTime": {
     "end_time": "2025-10-31T17:08:26.833628Z",
     "start_time": "2025-10-31T17:08:26.772309Z"
    }
   },
   "cell_type": "code",
   "source": [
    "time['hour'] = time['date'].dt.hour\n",
    "time['min'] = time['date'].dt.minute"
   ],
   "id": "6d1a216c22fe2e4a",
   "outputs": [],
   "execution_count": 67
  },
  {
   "metadata": {
    "ExecuteTime": {
     "end_time": "2025-10-31T17:08:26.884333Z",
     "start_time": "2025-10-31T17:08:26.841104Z"
    }
   },
   "cell_type": "code",
   "source": "time.sample(5)",
   "id": "16dc1f11bf32a950",
   "outputs": [
    {
     "data": {
      "text/plain": [
       "                      date                                                msg  \\\n",
       "223489 2014-07-01 00:46:00  ПАРЕНЬ ИЩЕТ ДЕВУШКУ СЕР/ОТНОШЕНИЙ МОЖНО  РЕБЁН...   \n",
       "783856 2013-12-18 00:15:00  М.ищет преятную блонд до 26 для с/о можн с реб...   \n",
       "459371 2012-07-17 01:11:00  Здесь есть мужчины которые способны любить отк...   \n",
       "392183 2012-03-06 23:31:00  Любимый доехала нормально.что просил-сделала.п...   \n",
       "789354 2013-12-28 00:23:00  ? ??? ????????? ????25??35????? ??????? ??????...   \n",
       "\n",
       "        hour  min  \n",
       "223489     0   46  \n",
       "783856     0   15  \n",
       "459371     1   11  \n",
       "392183    23   31  \n",
       "789354     0   23  "
      ],
      "text/html": [
       "<div>\n",
       "<style scoped>\n",
       "    .dataframe tbody tr th:only-of-type {\n",
       "        vertical-align: middle;\n",
       "    }\n",
       "\n",
       "    .dataframe tbody tr th {\n",
       "        vertical-align: top;\n",
       "    }\n",
       "\n",
       "    .dataframe thead th {\n",
       "        text-align: right;\n",
       "    }\n",
       "</style>\n",
       "<table border=\"1\" class=\"dataframe\">\n",
       "  <thead>\n",
       "    <tr style=\"text-align: right;\">\n",
       "      <th></th>\n",
       "      <th>date</th>\n",
       "      <th>msg</th>\n",
       "      <th>hour</th>\n",
       "      <th>min</th>\n",
       "    </tr>\n",
       "  </thead>\n",
       "  <tbody>\n",
       "    <tr>\n",
       "      <th>223489</th>\n",
       "      <td>2014-07-01 00:46:00</td>\n",
       "      <td>ПАРЕНЬ ИЩЕТ ДЕВУШКУ СЕР/ОТНОШЕНИЙ МОЖНО  РЕБЁН...</td>\n",
       "      <td>0</td>\n",
       "      <td>46</td>\n",
       "    </tr>\n",
       "    <tr>\n",
       "      <th>783856</th>\n",
       "      <td>2013-12-18 00:15:00</td>\n",
       "      <td>М.ищет преятную блонд до 26 для с/о можн с реб...</td>\n",
       "      <td>0</td>\n",
       "      <td>15</td>\n",
       "    </tr>\n",
       "    <tr>\n",
       "      <th>459371</th>\n",
       "      <td>2012-07-17 01:11:00</td>\n",
       "      <td>Здесь есть мужчины которые способны любить отк...</td>\n",
       "      <td>1</td>\n",
       "      <td>11</td>\n",
       "    </tr>\n",
       "    <tr>\n",
       "      <th>392183</th>\n",
       "      <td>2012-03-06 23:31:00</td>\n",
       "      <td>Любимый доехала нормально.что просил-сделала.п...</td>\n",
       "      <td>23</td>\n",
       "      <td>31</td>\n",
       "    </tr>\n",
       "    <tr>\n",
       "      <th>789354</th>\n",
       "      <td>2013-12-28 00:23:00</td>\n",
       "      <td>? ??? ????????? ????25??35????? ??????? ??????...</td>\n",
       "      <td>0</td>\n",
       "      <td>23</td>\n",
       "    </tr>\n",
       "  </tbody>\n",
       "</table>\n",
       "</div>"
      ]
     },
     "execution_count": 68,
     "metadata": {},
     "output_type": "execute_result"
    }
   ],
   "execution_count": 68
  }
 ],
 "metadata": {
  "kernelspec": {
   "display_name": "Python 3",
   "language": "python",
   "name": "python3"
  },
  "language_info": {
   "codemirror_mode": {
    "name": "ipython",
    "version": 2
   },
   "file_extension": ".py",
   "mimetype": "text/x-python",
   "name": "python",
   "nbconvert_exporter": "python",
   "pygments_lexer": "ipython2",
   "version": "2.7.6"
  }
 },
 "nbformat": 4,
 "nbformat_minor": 5
}

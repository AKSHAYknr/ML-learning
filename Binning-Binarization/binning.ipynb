{
 "cells": [
  {
   "cell_type": "code",
   "id": "initial_id",
   "metadata": {
    "collapsed": true,
    "ExecuteTime": {
     "end_time": "2025-10-31T14:25:22.836733Z",
     "start_time": "2025-10-31T14:25:22.830111Z"
    }
   },
   "source": [
    "import numpy as np\n",
    "import pandas as pd"
   ],
   "outputs": [],
   "execution_count": 104
  },
  {
   "metadata": {
    "ExecuteTime": {
     "end_time": "2025-10-31T14:25:22.855079Z",
     "start_time": "2025-10-31T14:25:22.847890Z"
    }
   },
   "cell_type": "code",
   "source": [
    "import matplotlib.pyplot as plt\n",
    "\n",
    "from sklearn.model_selection import train_test_split\n",
    "\n",
    "from sklearn.tree import DecisionTreeClassifier\n",
    "\n",
    "from sklearn.metrics import accuracy_score\n",
    "from sklearn.model_selection import cross_val_score\n",
    "\n",
    "from sklearn.preprocessing import KBinsDiscretizer\n",
    "from sklearn.compose import ColumnTransformer"
   ],
   "id": "867017757338b4cc",
   "outputs": [],
   "execution_count": 105
  },
  {
   "metadata": {
    "ExecuteTime": {
     "end_time": "2025-10-31T14:25:22.877454Z",
     "start_time": "2025-10-31T14:25:22.862837Z"
    }
   },
   "cell_type": "code",
   "source": "df = pd.read_csv('../data/tested.csv', usecols=['Age', 'Fare', 'Survived'])",
   "id": "1309c2ec44f3b7a6",
   "outputs": [],
   "execution_count": 106
  },
  {
   "metadata": {
    "ExecuteTime": {
     "end_time": "2025-10-31T14:25:22.894988Z",
     "start_time": "2025-10-31T14:25:22.884043Z"
    }
   },
   "cell_type": "code",
   "source": "df.dropna(inplace=True)",
   "id": "a07f8684a1d208b8",
   "outputs": [],
   "execution_count": 107
  },
  {
   "metadata": {
    "ExecuteTime": {
     "end_time": "2025-10-31T14:25:22.919437Z",
     "start_time": "2025-10-31T14:25:22.904160Z"
    }
   },
   "cell_type": "code",
   "source": "df.shape",
   "id": "e6a517f87e2dec0f",
   "outputs": [
    {
     "data": {
      "text/plain": [
       "(331, 3)"
      ]
     },
     "execution_count": 108,
     "metadata": {},
     "output_type": "execute_result"
    }
   ],
   "execution_count": 108
  },
  {
   "metadata": {
    "ExecuteTime": {
     "end_time": "2025-10-31T14:25:22.941829Z",
     "start_time": "2025-10-31T14:25:22.931360Z"
    }
   },
   "cell_type": "code",
   "source": "df.head()",
   "id": "1a23b756db71a536",
   "outputs": [
    {
     "data": {
      "text/plain": [
       "   Survived   Age     Fare\n",
       "0         0  34.5   7.8292\n",
       "1         1  47.0   7.0000\n",
       "2         0  62.0   9.6875\n",
       "3         0  27.0   8.6625\n",
       "4         1  22.0  12.2875"
      ],
      "text/html": [
       "<div>\n",
       "<style scoped>\n",
       "    .dataframe tbody tr th:only-of-type {\n",
       "        vertical-align: middle;\n",
       "    }\n",
       "\n",
       "    .dataframe tbody tr th {\n",
       "        vertical-align: top;\n",
       "    }\n",
       "\n",
       "    .dataframe thead th {\n",
       "        text-align: right;\n",
       "    }\n",
       "</style>\n",
       "<table border=\"1\" class=\"dataframe\">\n",
       "  <thead>\n",
       "    <tr style=\"text-align: right;\">\n",
       "      <th></th>\n",
       "      <th>Survived</th>\n",
       "      <th>Age</th>\n",
       "      <th>Fare</th>\n",
       "    </tr>\n",
       "  </thead>\n",
       "  <tbody>\n",
       "    <tr>\n",
       "      <th>0</th>\n",
       "      <td>0</td>\n",
       "      <td>34.5</td>\n",
       "      <td>7.8292</td>\n",
       "    </tr>\n",
       "    <tr>\n",
       "      <th>1</th>\n",
       "      <td>1</td>\n",
       "      <td>47.0</td>\n",
       "      <td>7.0000</td>\n",
       "    </tr>\n",
       "    <tr>\n",
       "      <th>2</th>\n",
       "      <td>0</td>\n",
       "      <td>62.0</td>\n",
       "      <td>9.6875</td>\n",
       "    </tr>\n",
       "    <tr>\n",
       "      <th>3</th>\n",
       "      <td>0</td>\n",
       "      <td>27.0</td>\n",
       "      <td>8.6625</td>\n",
       "    </tr>\n",
       "    <tr>\n",
       "      <th>4</th>\n",
       "      <td>1</td>\n",
       "      <td>22.0</td>\n",
       "      <td>12.2875</td>\n",
       "    </tr>\n",
       "  </tbody>\n",
       "</table>\n",
       "</div>"
      ]
     },
     "execution_count": 109,
     "metadata": {},
     "output_type": "execute_result"
    }
   ],
   "execution_count": 109
  },
  {
   "metadata": {
    "ExecuteTime": {
     "end_time": "2025-10-31T14:25:22.963320Z",
     "start_time": "2025-10-31T14:25:22.953542Z"
    }
   },
   "cell_type": "code",
   "source": [
    "x = df.iloc[:, 1:]\n",
    "y = df.iloc[:, 0]\n",
    "\n",
    "X_train, X_test, y_train, y_test = train_test_split(x, y, test_size=0.2, random_state=42)"
   ],
   "id": "b8831909b3e03163",
   "outputs": [],
   "execution_count": 110
  },
  {
   "metadata": {
    "ExecuteTime": {
     "end_time": "2025-10-31T14:25:22.989298Z",
     "start_time": "2025-10-31T14:25:22.976292Z"
    }
   },
   "cell_type": "code",
   "source": "X_train.head()",
   "id": "5cc2dfefc21b349b",
   "outputs": [
    {
     "data": {
      "text/plain": [
       "       Age     Fare\n",
       "281   0.75  13.7750\n",
       "96   76.00  78.8500\n",
       "341  32.00   7.5792\n",
       "18   27.00   7.9250\n",
       "26   22.00  61.9792"
      ],
      "text/html": [
       "<div>\n",
       "<style scoped>\n",
       "    .dataframe tbody tr th:only-of-type {\n",
       "        vertical-align: middle;\n",
       "    }\n",
       "\n",
       "    .dataframe tbody tr th {\n",
       "        vertical-align: top;\n",
       "    }\n",
       "\n",
       "    .dataframe thead th {\n",
       "        text-align: right;\n",
       "    }\n",
       "</style>\n",
       "<table border=\"1\" class=\"dataframe\">\n",
       "  <thead>\n",
       "    <tr style=\"text-align: right;\">\n",
       "      <th></th>\n",
       "      <th>Age</th>\n",
       "      <th>Fare</th>\n",
       "    </tr>\n",
       "  </thead>\n",
       "  <tbody>\n",
       "    <tr>\n",
       "      <th>281</th>\n",
       "      <td>0.75</td>\n",
       "      <td>13.7750</td>\n",
       "    </tr>\n",
       "    <tr>\n",
       "      <th>96</th>\n",
       "      <td>76.00</td>\n",
       "      <td>78.8500</td>\n",
       "    </tr>\n",
       "    <tr>\n",
       "      <th>341</th>\n",
       "      <td>32.00</td>\n",
       "      <td>7.5792</td>\n",
       "    </tr>\n",
       "    <tr>\n",
       "      <th>18</th>\n",
       "      <td>27.00</td>\n",
       "      <td>7.9250</td>\n",
       "    </tr>\n",
       "    <tr>\n",
       "      <th>26</th>\n",
       "      <td>22.00</td>\n",
       "      <td>61.9792</td>\n",
       "    </tr>\n",
       "  </tbody>\n",
       "</table>\n",
       "</div>"
      ]
     },
     "execution_count": 111,
     "metadata": {},
     "output_type": "execute_result"
    }
   ],
   "execution_count": 111
  },
  {
   "metadata": {
    "ExecuteTime": {
     "end_time": "2025-10-31T14:25:23.013315Z",
     "start_time": "2025-10-31T14:25:23.009109Z"
    }
   },
   "cell_type": "code",
   "source": "clf = DecisionTreeClassifier() # model",
   "id": "222481013b379794",
   "outputs": [],
   "execution_count": 112
  },
  {
   "metadata": {
    "ExecuteTime": {
     "end_time": "2025-10-31T14:25:23.037287Z",
     "start_time": "2025-10-31T14:25:23.020458Z"
    }
   },
   "cell_type": "code",
   "source": [
    "clf.fit(X_train, y_train) #training model\n",
    "y_pred = clf.predict(X_test)"
   ],
   "id": "e5c10751b019d350",
   "outputs": [],
   "execution_count": 113
  },
  {
   "metadata": {
    "ExecuteTime": {
     "end_time": "2025-10-31T14:25:23.055597Z",
     "start_time": "2025-10-31T14:25:23.047396Z"
    }
   },
   "cell_type": "code",
   "source": "accuracy_score(y_test, y_pred)",
   "id": "d67d9892a1abc086",
   "outputs": [
    {
     "data": {
      "text/plain": [
       "0.582089552238806"
      ]
     },
     "execution_count": 114,
     "metadata": {},
     "output_type": "execute_result"
    }
   ],
   "execution_count": 114
  },
  {
   "metadata": {
    "ExecuteTime": {
     "end_time": "2025-10-31T14:25:23.112790Z",
     "start_time": "2025-10-31T14:25:23.067563Z"
    }
   },
   "cell_type": "code",
   "source": "np.mean(cross_val_score(DecisionTreeClassifier(),x, y, cv=10, scoring='accuracy'))",
   "id": "810573458431eb4a",
   "outputs": [
    {
     "data": {
      "text/plain": [
       "np.float64(0.5680926916221034)"
      ]
     },
     "execution_count": 115,
     "metadata": {},
     "output_type": "execute_result"
    }
   ],
   "execution_count": 115
  },
  {
   "metadata": {
    "ExecuteTime": {
     "end_time": "2025-10-31T14:25:23.123201Z",
     "start_time": "2025-10-31T14:25:23.119091Z"
    }
   },
   "cell_type": "code",
   "source": [
    "#binning\n",
    "kbin_age = KBinsDiscretizer(n_bins=10, encode='ordinal', strategy='kmeans')\n",
    "kbin_fare = KBinsDiscretizer(n_bins=10, encode='ordinal', strategy='kmeans')"
   ],
   "id": "819147561b9f5a11",
   "outputs": [],
   "execution_count": 116
  },
  {
   "metadata": {
    "ExecuteTime": {
     "end_time": "2025-10-31T14:25:23.141303Z",
     "start_time": "2025-10-31T14:25:23.134380Z"
    }
   },
   "cell_type": "code",
   "source": [
    "trf = ColumnTransformer([\n",
    "    ('first', kbin_age,[0]),\n",
    "    ('second', kbin_fare, [1])\n",
    "])"
   ],
   "id": "e8b55d19f915699c",
   "outputs": [],
   "execution_count": 117
  },
  {
   "metadata": {
    "ExecuteTime": {
     "end_time": "2025-10-31T14:25:23.191424Z",
     "start_time": "2025-10-31T14:25:23.151213Z"
    }
   },
   "cell_type": "code",
   "source": [
    "X_train_transform = trf.fit_transform(X_train)\n",
    "X_test_transform = trf.fit_transform(X_test)"
   ],
   "id": "414b3fe80b1f8392",
   "outputs": [],
   "execution_count": 118
  },
  {
   "metadata": {
    "ExecuteTime": {
     "end_time": "2025-10-31T14:25:23.207709Z",
     "start_time": "2025-10-31T14:25:23.202543Z"
    }
   },
   "cell_type": "code",
   "source": "trf.named_transformers_['second'].n_bins_",
   "id": "8d9202483d1bb334",
   "outputs": [
    {
     "data": {
      "text/plain": [
       "array([10])"
      ]
     },
     "execution_count": 119,
     "metadata": {},
     "output_type": "execute_result"
    }
   ],
   "execution_count": 119
  },
  {
   "metadata": {
    "ExecuteTime": {
     "end_time": "2025-10-31T14:25:23.236710Z",
     "start_time": "2025-10-31T14:25:23.231202Z"
    }
   },
   "cell_type": "code",
   "source": "trf.named_transformers_['first'].bin_edges_",
   "id": "663e95987025dd1c",
   "outputs": [
    {
     "data": {
      "text/plain": [
       "array([array([ 0.17      ,  7.20285714, 15.        , 19.91911765, 24.16911765,\n",
       "              29.16071429, 36.71428571, 44.8452381 , 51.5       , 57.83333333,\n",
       "              61.        ])                                                   ],\n",
       "      dtype=object)"
      ]
     },
     "execution_count": 120,
     "metadata": {},
     "output_type": "execute_result"
    }
   ],
   "execution_count": 120
  },
  {
   "metadata": {
    "ExecuteTime": {
     "end_time": "2025-10-31T14:25:23.263262Z",
     "start_time": "2025-10-31T14:25:23.257246Z"
    }
   },
   "cell_type": "code",
   "source": [
    "clf = DecisionTreeClassifier()\n",
    "clf.fit(X_train_transform, y_train)\n",
    "y_pred2 = clf.predict(X_test_transform)"
   ],
   "id": "597795f82724466e",
   "outputs": [],
   "execution_count": 121
  },
  {
   "metadata": {
    "ExecuteTime": {
     "end_time": "2025-10-31T14:25:23.287771Z",
     "start_time": "2025-10-31T14:25:23.281256Z"
    }
   },
   "cell_type": "code",
   "source": "accuracy_score(y_test, y_pred2)",
   "id": "c0eac6a7dda9714f",
   "outputs": [
    {
     "data": {
      "text/plain": [
       "0.5671641791044776"
      ]
     },
     "execution_count": 122,
     "metadata": {},
     "output_type": "execute_result"
    }
   ],
   "execution_count": 122
  },
  {
   "metadata": {
    "ExecuteTime": {
     "end_time": "2025-10-31T14:25:23.372673Z",
     "start_time": "2025-10-31T14:25:23.303300Z"
    }
   },
   "cell_type": "code",
   "source": [
    "X_trf = trf.fit_transform(x)\n",
    "np.mean(cross_val_score(DecisionTreeClassifier(), x, y, cv=10, scoring='accuracy'))"
   ],
   "id": "9e4a1f5a6241543e",
   "outputs": [
    {
     "data": {
      "text/plain": [
       "np.float64(0.5558823529411764)"
      ]
     },
     "execution_count": 123,
     "metadata": {},
     "output_type": "execute_result"
    }
   ],
   "execution_count": 123
  },
  {
   "metadata": {
    "ExecuteTime": {
     "end_time": "2025-10-31T14:26:12.495725Z",
     "start_time": "2025-10-31T14:26:12.085025Z"
    }
   },
   "cell_type": "code",
   "source": [
    "plt.figure(figsize=(14, 4))\n",
    "plt.subplot(121)\n",
    "plt.hist(x['Age'])\n",
    "plt.title('Before')\n",
    "\n",
    "plt.subplot(122)\n",
    "plt.hist(X_trf[:, 0], color='red')\n",
    "plt.title('After')\n",
    "\n",
    "plt.show()"
   ],
   "id": "62836390caa1a5b3",
   "outputs": [
    {
     "data": {
      "text/plain": [
       "<Figure size 1400x400 with 2 Axes>"
      ],
      "image/png": "[encoded data removed]"
     },
     "metadata": {},
     "output_type": "display_data"
    }
   ],
   "execution_count": 127
  },
  {
   "metadata": {
    "ExecuteTime": {
     "end_time": "2025-10-31T14:25:34.317098Z",
     "start_time": "2025-10-31T14:25:34.151395Z"
    }
   },
   "cell_type": "code",
   "source": [
    "plt.figure(figsize=(14, 4))\n",
    "plt.subplot(121)\n",
    "plt.hist(x['Fare'])\n",
    "plt.title('Before')\n",
    "\n",
    "plt.subplot(122)\n",
    "plt.hist(X_trf[:, 1], color='red')\n",
    "plt.title('After')\n",
    "\n",
    "plt.show()"
   ],
   "id": "a810befb3fcc8661",
   "outputs": [
    {
     "data": {
      "text/plain": [
       "<Figure size 1400x400 with 2 Axes>"
      ],
      "image/png": "[encoded data removed]"
     },
     "metadata": {},
     "output_type": "display_data"
    }
   ],
   "execution_count": 126
  }
 ],
 "metadata": {
  "kernelspec": {
   "display_name": "Python 3",
   "language": "python",
   "name": "python3"
  },
  "language_info": {
   "codemirror_mode": {
    "name": "ipython",
    "version": 2
   },
   "file_extension": ".py",
   "mimetype": "text/x-python",
   "name": "python",
   "nbconvert_exporter": "python",
   "pygments_lexer": "ipython2",
   "version": "2.7.6"
  }
 },
 "nbformat": 4,
 "nbformat_minor": 5
}

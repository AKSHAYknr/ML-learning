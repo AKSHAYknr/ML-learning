{
 "cells": [
  {
   "cell_type": "code",
   "id": "initial_id",
   "metadata": {
    "collapsed": true,
    "ExecuteTime": {
     "end_time": "2025-10-29T16:18:28.158911Z",
     "start_time": "2025-10-29T16:18:28.155618Z"
    }
   },
   "source": [
    "from math import remainder\n",
    "\n",
    "import numpy as np\n",
    "import pandas as pd\n",
    "from sklearn.preprocessing import OrdinalEncoder, OneHotEncoder"
   ],
   "outputs": [],
   "execution_count": 63
  },
  {
   "metadata": {
    "ExecuteTime": {
     "end_time": "2025-10-29T16:18:28.193845Z",
     "start_time": "2025-10-29T16:18:28.182077Z"
    }
   },
   "cell_type": "code",
   "source": "df = pd.read_csv('../data/cars.csv')",
   "id": "26a6cfc4d4a7b65f",
   "outputs": [],
   "execution_count": 64
  },
  {
   "metadata": {
    "ExecuteTime": {
     "end_time": "2025-10-29T16:18:28.219292Z",
     "start_time": "2025-10-29T16:18:28.209929Z"
    }
   },
   "cell_type": "code",
   "source": "df.head()",
   "id": "1bfc6d54617d2c8b",
   "outputs": [
    {
     "data": {
      "text/plain": [
       "     brand  km_driven    fuel         owner  selling_price\n",
       "0   Maruti     145500  Diesel   First Owner         450000\n",
       "1    Skoda     120000  Diesel  Second Owner         370000\n",
       "2    Honda     140000  Petrol   Third Owner         158000\n",
       "3  Hyundai     127000  Diesel   First Owner         225000\n",
       "4   Maruti     120000  Petrol   First Owner         130000"
      ],
      "text/html": [
       "<div>\n",
       "<style scoped>\n",
       "    .dataframe tbody tr th:only-of-type {\n",
       "        vertical-align: middle;\n",
       "    }\n",
       "\n",
       "    .dataframe tbody tr th {\n",
       "        vertical-align: top;\n",
       "    }\n",
       "\n",
       "    .dataframe thead th {\n",
       "        text-align: right;\n",
       "    }\n",
       "</style>\n",
       "<table border=\"1\" class=\"dataframe\">\n",
       "  <thead>\n",
       "    <tr style=\"text-align: right;\">\n",
       "      <th></th>\n",
       "      <th>brand</th>\n",
       "      <th>km_driven</th>\n",
       "      <th>fuel</th>\n",
       "      <th>owner</th>\n",
       "      <th>selling_price</th>\n",
       "    </tr>\n",
       "  </thead>\n",
       "  <tbody>\n",
       "    <tr>\n",
       "      <th>0</th>\n",
       "      <td>Maruti</td>\n",
       "      <td>145500</td>\n",
       "      <td>Diesel</td>\n",
       "      <td>First Owner</td>\n",
       "      <td>450000</td>\n",
       "    </tr>\n",
       "    <tr>\n",
       "      <th>1</th>\n",
       "      <td>Skoda</td>\n",
       "      <td>120000</td>\n",
       "      <td>Diesel</td>\n",
       "      <td>Second Owner</td>\n",
       "      <td>370000</td>\n",
       "    </tr>\n",
       "    <tr>\n",
       "      <th>2</th>\n",
       "      <td>Honda</td>\n",
       "      <td>140000</td>\n",
       "      <td>Petrol</td>\n",
       "      <td>Third Owner</td>\n",
       "      <td>158000</td>\n",
       "    </tr>\n",
       "    <tr>\n",
       "      <th>3</th>\n",
       "      <td>Hyundai</td>\n",
       "      <td>127000</td>\n",
       "      <td>Diesel</td>\n",
       "      <td>First Owner</td>\n",
       "      <td>225000</td>\n",
       "    </tr>\n",
       "    <tr>\n",
       "      <th>4</th>\n",
       "      <td>Maruti</td>\n",
       "      <td>120000</td>\n",
       "      <td>Petrol</td>\n",
       "      <td>First Owner</td>\n",
       "      <td>130000</td>\n",
       "    </tr>\n",
       "  </tbody>\n",
       "</table>\n",
       "</div>"
      ]
     },
     "execution_count": 65,
     "metadata": {},
     "output_type": "execute_result"
    }
   ],
   "execution_count": 65
  },
  {
   "metadata": {
    "ExecuteTime": {
     "end_time": "2025-10-29T16:18:28.239691Z",
     "start_time": "2025-10-29T16:18:28.231400Z"
    }
   },
   "cell_type": "code",
   "source": "df['fuel'].value_counts()",
   "id": "67c3d54194ee2b68",
   "outputs": [
    {
     "data": {
      "text/plain": [
       "fuel\n",
       "Diesel    4402\n",
       "Petrol    3631\n",
       "CNG         57\n",
       "LPG         38\n",
       "Name: count, dtype: int64"
      ]
     },
     "execution_count": 66,
     "metadata": {},
     "output_type": "execute_result"
    }
   ],
   "execution_count": 66
  },
  {
   "metadata": {
    "ExecuteTime": {
     "end_time": "2025-10-29T16:18:28.263620Z",
     "start_time": "2025-10-29T16:18:28.251907Z"
    }
   },
   "cell_type": "code",
   "source": "df['brand'].nunique()",
   "id": "6d89b7123cbe045f",
   "outputs": [
    {
     "data": {
      "text/plain": [
       "32"
      ]
     },
     "execution_count": 67,
     "metadata": {},
     "output_type": "execute_result"
    }
   ],
   "execution_count": 67
  },
  {
   "metadata": {
    "ExecuteTime": {
     "end_time": "2025-10-29T16:18:28.286907Z",
     "start_time": "2025-10-29T16:18:28.281730Z"
    }
   },
   "cell_type": "code",
   "source": "df['owner'].nunique()",
   "id": "bdc21db60ac28d3",
   "outputs": [
    {
     "data": {
      "text/plain": [
       "5"
      ]
     },
     "execution_count": 68,
     "metadata": {},
     "output_type": "execute_result"
    }
   ],
   "execution_count": 68
  },
  {
   "metadata": {
    "ExecuteTime": {
     "end_time": "2025-10-29T16:18:28.306423Z",
     "start_time": "2025-10-29T16:18:28.295127Z"
    }
   },
   "cell_type": "code",
   "source": [
    "from sklearn.model_selection import train_test_split\n",
    "\n",
    "x = df[['brand', 'km_driven', 'fuel', 'owner']]\n",
    "\n",
    "y = df['selling_price']\n",
    "\n",
    "X_train, X_test, y_train, y_test = train_test_split(x, y, test_size=0.2, random_state=0)"
   ],
   "id": "ec5c05751fe806e6",
   "outputs": [],
   "execution_count": 69
  },
  {
   "metadata": {
    "ExecuteTime": {
     "end_time": "2025-10-29T16:18:28.323891Z",
     "start_time": "2025-10-29T16:18:28.311381Z"
    }
   },
   "cell_type": "code",
   "source": [
    "from sklearn.compose import ColumnTransformer\n",
    "\n",
    "transformer = ColumnTransformer(transformers=[\n",
    "    ('tnf1', OrdinalEncoder(categories=[['Diesel', 'Petrol', 'CNG', 'LPG']]), ['fuel']),\n",
    "    ('tnf2', OneHotEncoder(sparse_output = False, handle_unknown='ignore'), ['brand', 'owner'])\n",
    "],remainder='passthrough')"
   ],
   "id": "e40aa1477bdfba41",
   "outputs": [],
   "execution_count": 70
  },
  {
   "metadata": {
    "ExecuteTime": {
     "end_time": "2025-10-29T16:19:21.039993Z",
     "start_time": "2025-10-29T16:19:21.014534Z"
    }
   },
   "cell_type": "code",
   "source": "X_train_transformed = transformer.fit_transform(X_train)",
   "id": "14fc23c52b0e5191",
   "outputs": [],
   "execution_count": 74
  },
  {
   "metadata": {
    "ExecuteTime": {
     "end_time": "2025-10-29T16:18:28.393154Z",
     "start_time": "2025-10-29T16:18:28.381860Z"
    }
   },
   "cell_type": "code",
   "source": "transformer.transform(X_test).shape",
   "id": "b2e7f15119455f7a",
   "outputs": [
    {
     "data": {
      "text/plain": [
       "(1626, 38)"
      ]
     },
     "execution_count": 72,
     "metadata": {},
     "output_type": "execute_result"
    }
   ],
   "execution_count": 72
  },
  {
   "metadata": {
    "ExecuteTime": {
     "end_time": "2025-10-29T16:21:18.545645Z",
     "start_time": "2025-10-29T16:21:18.515037Z"
    }
   },
   "cell_type": "code",
   "source": "pd.DataFrame(X_train_transformed, columns=transformer.get_feature_names_out()).head()",
   "id": "c4b4a5430ff90ba8",
   "outputs": [
    {
     "data": {
      "text/plain": [
       "   tnf1__fuel  tnf2__brand_Ambassador  tnf2__brand_Ashok  tnf2__brand_Audi  \\\n",
       "0         3.0                     0.0                0.0               0.0   \n",
       "1         0.0                     0.0                0.0               0.0   \n",
       "2         0.0                     0.0                0.0               0.0   \n",
       "3         0.0                     0.0                0.0               0.0   \n",
       "4         1.0                     0.0                0.0               0.0   \n",
       "\n",
       "   tnf2__brand_BMW  tnf2__brand_Chevrolet  tnf2__brand_Daewoo  \\\n",
       "0              0.0                    0.0                 0.0   \n",
       "1              0.0                    0.0                 0.0   \n",
       "2              0.0                    0.0                 0.0   \n",
       "3              0.0                    0.0                 0.0   \n",
       "4              0.0                    0.0                 0.0   \n",
       "\n",
       "   tnf2__brand_Datsun  tnf2__brand_Fiat  tnf2__brand_Force  ...  \\\n",
       "0                 0.0               0.0                0.0  ...   \n",
       "1                 0.0               0.0                0.0  ...   \n",
       "2                 0.0               0.0                0.0  ...   \n",
       "3                 0.0               0.0                0.0  ...   \n",
       "4                 0.0               0.0                0.0  ...   \n",
       "\n",
       "   tnf2__brand_Tata  tnf2__brand_Toyota  tnf2__brand_Volkswagen  \\\n",
       "0               0.0                 0.0                     0.0   \n",
       "1               1.0                 0.0                     0.0   \n",
       "2               0.0                 0.0                     0.0   \n",
       "3               0.0                 0.0                     0.0   \n",
       "4               0.0                 0.0                     0.0   \n",
       "\n",
       "   tnf2__brand_Volvo  tnf2__owner_First Owner  \\\n",
       "0                0.0                      1.0   \n",
       "1                0.0                      0.0   \n",
       "2                0.0                      0.0   \n",
       "3                0.0                      0.0   \n",
       "4                0.0                      1.0   \n",
       "\n",
       "   tnf2__owner_Fourth & Above Owner  tnf2__owner_Second Owner  \\\n",
       "0                               0.0                       0.0   \n",
       "1                               0.0                       0.0   \n",
       "2                               0.0                       1.0   \n",
       "3                               0.0                       1.0   \n",
       "4                               0.0                       0.0   \n",
       "\n",
       "   tnf2__owner_Test Drive Car  tnf2__owner_Third Owner  remainder__km_driven  \n",
       "0                         0.0                      0.0               60000.0  \n",
       "1                         0.0                      1.0              150000.0  \n",
       "2                         0.0                      0.0              110000.0  \n",
       "3                         0.0                      0.0               28000.0  \n",
       "4                         0.0                      0.0               15000.0  \n",
       "\n",
       "[5 rows x 38 columns]"
      ],
      "text/html": [
       "<div>\n",
       "<style scoped>\n",
       "    .dataframe tbody tr th:only-of-type {\n",
       "        vertical-align: middle;\n",
       "    }\n",
       "\n",
       "    .dataframe tbody tr th {\n",
       "        vertical-align: top;\n",
       "    }\n",
       "\n",
       "    .dataframe thead th {\n",
       "        text-align: right;\n",
       "    }\n",
       "</style>\n",
       "<table border=\"1\" class=\"dataframe\">\n",
       "  <thead>\n",
       "    <tr style=\"text-align: right;\">\n",
       "      <th></th>\n",
       "      <th>tnf1__fuel</th>\n",
       "      <th>tnf2__brand_Ambassador</th>\n",
       "      <th>tnf2__brand_Ashok</th>\n",
       "      <th>tnf2__brand_Audi</th>\n",
       "      <th>tnf2__brand_BMW</th>\n",
       "      <th>tnf2__brand_Chevrolet</th>\n",
       "      <th>tnf2__brand_Daewoo</th>\n",
       "      <th>tnf2__brand_Datsun</th>\n",
       "      <th>tnf2__brand_Fiat</th>\n",
       "      <th>tnf2__brand_Force</th>\n",
       "      <th>...</th>\n",
       "      <th>tnf2__brand_Tata</th>\n",
       "      <th>tnf2__brand_Toyota</th>\n",
       "      <th>tnf2__brand_Volkswagen</th>\n",
       "      <th>tnf2__brand_Volvo</th>\n",
       "      <th>tnf2__owner_First Owner</th>\n",
       "      <th>tnf2__owner_Fourth &amp; Above Owner</th>\n",
       "      <th>tnf2__owner_Second Owner</th>\n",
       "      <th>tnf2__owner_Test Drive Car</th>\n",
       "      <th>tnf2__owner_Third Owner</th>\n",
       "      <th>remainder__km_driven</th>\n",
       "    </tr>\n",
       "  </thead>\n",
       "  <tbody>\n",
       "    <tr>\n",
       "      <th>0</th>\n",
       "      <td>3.0</td>\n",
       "      <td>0.0</td>\n",
       "      <td>0.0</td>\n",
       "      <td>0.0</td>\n",
       "      <td>0.0</td>\n",
       "      <td>0.0</td>\n",
       "      <td>0.0</td>\n",
       "      <td>0.0</td>\n",
       "      <td>0.0</td>\n",
       "      <td>0.0</td>\n",
       "      <td>...</td>\n",
       "      <td>0.0</td>\n",
       "      <td>0.0</td>\n",
       "      <td>0.0</td>\n",
       "      <td>0.0</td>\n",
       "      <td>1.0</td>\n",
       "      <td>0.0</td>\n",
       "      <td>0.0</td>\n",
       "      <td>0.0</td>\n",
       "      <td>0.0</td>\n",
       "      <td>60000.0</td>\n",
       "    </tr>\n",
       "    <tr>\n",
       "      <th>1</th>\n",
       "      <td>0.0</td>\n",
       "      <td>0.0</td>\n",
       "      <td>0.0</td>\n",
       "      <td>0.0</td>\n",
       "      <td>0.0</td>\n",
       "      <td>0.0</td>\n",
       "      <td>0.0</td>\n",
       "      <td>0.0</td>\n",
       "      <td>0.0</td>\n",
       "      <td>0.0</td>\n",
       "      <td>...</td>\n",
       "      <td>1.0</td>\n",
       "      <td>0.0</td>\n",
       "      <td>0.0</td>\n",
       "      <td>0.0</td>\n",
       "      <td>0.0</td>\n",
       "      <td>0.0</td>\n",
       "      <td>0.0</td>\n",
       "      <td>0.0</td>\n",
       "      <td>1.0</td>\n",
       "      <td>150000.0</td>\n",
       "    </tr>\n",
       "    <tr>\n",
       "      <th>2</th>\n",
       "      <td>0.0</td>\n",
       "      <td>0.0</td>\n",
       "      <td>0.0</td>\n",
       "      <td>0.0</td>\n",
       "      <td>0.0</td>\n",
       "      <td>0.0</td>\n",
       "      <td>0.0</td>\n",
       "      <td>0.0</td>\n",
       "      <td>0.0</td>\n",
       "      <td>0.0</td>\n",
       "      <td>...</td>\n",
       "      <td>0.0</td>\n",
       "      <td>0.0</td>\n",
       "      <td>0.0</td>\n",
       "      <td>0.0</td>\n",
       "      <td>0.0</td>\n",
       "      <td>0.0</td>\n",
       "      <td>1.0</td>\n",
       "      <td>0.0</td>\n",
       "      <td>0.0</td>\n",
       "      <td>110000.0</td>\n",
       "    </tr>\n",
       "    <tr>\n",
       "      <th>3</th>\n",
       "      <td>0.0</td>\n",
       "      <td>0.0</td>\n",
       "      <td>0.0</td>\n",
       "      <td>0.0</td>\n",
       "      <td>0.0</td>\n",
       "      <td>0.0</td>\n",
       "      <td>0.0</td>\n",
       "      <td>0.0</td>\n",
       "      <td>0.0</td>\n",
       "      <td>0.0</td>\n",
       "      <td>...</td>\n",
       "      <td>0.0</td>\n",
       "      <td>0.0</td>\n",
       "      <td>0.0</td>\n",
       "      <td>0.0</td>\n",
       "      <td>0.0</td>\n",
       "      <td>0.0</td>\n",
       "      <td>1.0</td>\n",
       "      <td>0.0</td>\n",
       "      <td>0.0</td>\n",
       "      <td>28000.0</td>\n",
       "    </tr>\n",
       "    <tr>\n",
       "      <th>4</th>\n",
       "      <td>1.0</td>\n",
       "      <td>0.0</td>\n",
       "      <td>0.0</td>\n",
       "      <td>0.0</td>\n",
       "      <td>0.0</td>\n",
       "      <td>0.0</td>\n",
       "      <td>0.0</td>\n",
       "      <td>0.0</td>\n",
       "      <td>0.0</td>\n",
       "      <td>0.0</td>\n",
       "      <td>...</td>\n",
       "      <td>0.0</td>\n",
       "      <td>0.0</td>\n",
       "      <td>0.0</td>\n",
       "      <td>0.0</td>\n",
       "      <td>1.0</td>\n",
       "      <td>0.0</td>\n",
       "      <td>0.0</td>\n",
       "      <td>0.0</td>\n",
       "      <td>0.0</td>\n",
       "      <td>15000.0</td>\n",
       "    </tr>\n",
       "  </tbody>\n",
       "</table>\n",
       "<p>5 rows × 38 columns</p>\n",
       "</div>"
      ]
     },
     "execution_count": 76,
     "metadata": {},
     "output_type": "execute_result"
    }
   ],
   "execution_count": 76
  }
 ],
 "metadata": {
  "kernelspec": {
   "display_name": "Python 3",
   "language": "python",
   "name": "python3"
  },
  "language_info": {
   "codemirror_mode": {
    "name": "ipython",
    "version": 2
   },
   "file_extension": ".py",
   "mimetype": "text/x-python",
   "name": "python",
   "nbconvert_exporter": "python",
   "pygments_lexer": "ipython2",
   "version": "2.7.6"
  }
 },
 "nbformat": 4,
 "nbformat_minor": 5
}

{
 "cells": [
  {
   "cell_type": "code",
   "id": "initial_id",
   "metadata": {
    "collapsed": true,
    "ExecuteTime": {
     "end_time": "2025-10-28T13:19:42.578988Z",
     "start_time": "2025-10-28T13:19:42.123758Z"
    }
   },
   "source": [
    "from bs4.diagnose import profile\n",
    "from ydata_profiling import ProfileReport\n",
    "import pandas as pd\n",
    "from ydata_profiling.utils.information import title"
   ],
   "outputs": [],
   "execution_count": 19
  },
  {
   "metadata": {
    "ExecuteTime": {
     "end_time": "2025-10-28T13:19:42.602563Z",
     "start_time": "2025-10-28T13:19:42.591858Z"
    }
   },
   "cell_type": "code",
   "source": "df = pd.read_csv('../data/tested.csv')",
   "id": "f12ecba5da7301d6",
   "outputs": [],
   "execution_count": 20
  },
  {
   "metadata": {
    "ExecuteTime": {
     "end_time": "2025-10-28T13:19:43.356672Z",
     "start_time": "2025-10-28T13:19:42.614125Z"
    }
   },
   "cell_type": "code",
   "source": "profile = ProfileReport(df, title = 'Titanic Data Profiling Report', explorative= True)",
   "id": "e807a9a68c3cf69e",
   "outputs": [],
   "execution_count": 21
  },
  {
   "metadata": {
    "ExecuteTime": {
     "end_time": "2025-10-28T13:24:56.899826Z",
     "start_time": "2025-10-28T13:24:56.795082Z"
    }
   },
   "cell_type": "code",
   "source": "profile.to_file(output_file='output.html')",
   "id": "4728f2086d7bde53",
   "outputs": [
    {
     "name": "stderr",
     "output_type": "stream",
     "text": [
      "Export report to file: 100%|██████████| 1/1 [00:00<00:00, 10.65it/s]\n"
     ]
    }
   ],
   "execution_count": 24
  }
 ],
 "metadata": {
  "kernelspec": {
   "display_name": "Python 3",
   "language": "python",
   "name": "python3"
  },
  "language_info": {
   "codemirror_mode": {
    "name": "ipython",
    "version": 2
   },
   "file_extension": ".py",
   "mimetype": "text/x-python",
   "name": "python",
   "nbconvert_exporter": "python",
   "pygments_lexer": "ipython2",
   "version": "2.7.6"
  }
 },
 "nbformat": 4,
 "nbformat_minor": 5
}
